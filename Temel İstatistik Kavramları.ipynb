{
 "cells": [
  {
   "cell_type": "markdown",
   "metadata": {},
   "source": [
    "numpy kütüphanesini kullanarak üreteceğiniz 3 farklı veri aracılığı ile merkezi eğilim ve dağılım ölçümlerini hem yukarıda verilen matematiksel formülle hem de python'da hazır bulunan (built-in) kodlar aracılığıyla analiz edin!!!"
   ]
  },
  {
   "cell_type": "code",
   "execution_count": 1,
   "metadata": {},
   "outputs": [
    {
     "data": {
      "text/html": [
       "<div>\n",
       "<style scoped>\n",
       "    .dataframe tbody tr th:only-of-type {\n",
       "        vertical-align: middle;\n",
       "    }\n",
       "\n",
       "    .dataframe tbody tr th {\n",
       "        vertical-align: top;\n",
       "    }\n",
       "\n",
       "    .dataframe thead th {\n",
       "        text-align: right;\n",
       "    }\n",
       "</style>\n",
       "<table border=\"1\" class=\"dataframe\">\n",
       "  <thead>\n",
       "    <tr style=\"text-align: right;\">\n",
       "      <th></th>\n",
       "      <th>gender</th>\n",
       "      <th>age</th>\n",
       "      <th>height</th>\n",
       "      <th>weight</th>\n",
       "    </tr>\n",
       "  </thead>\n",
       "  <tbody>\n",
       "    <tr>\n",
       "      <td>0</td>\n",
       "      <td>male</td>\n",
       "      <td>42</td>\n",
       "      <td>260</td>\n",
       "      <td>77</td>\n",
       "    </tr>\n",
       "    <tr>\n",
       "      <td>1</td>\n",
       "      <td>male</td>\n",
       "      <td>41</td>\n",
       "      <td>203</td>\n",
       "      <td>72</td>\n",
       "    </tr>\n",
       "    <tr>\n",
       "      <td>2</td>\n",
       "      <td>male</td>\n",
       "      <td>37</td>\n",
       "      <td>197</td>\n",
       "      <td>60</td>\n",
       "    </tr>\n",
       "    <tr>\n",
       "      <td>3</td>\n",
       "      <td>male</td>\n",
       "      <td>33</td>\n",
       "      <td>161</td>\n",
       "      <td>76</td>\n",
       "    </tr>\n",
       "    <tr>\n",
       "      <td>4</td>\n",
       "      <td>male</td>\n",
       "      <td>38</td>\n",
       "      <td>171</td>\n",
       "      <td>61</td>\n",
       "    </tr>\n",
       "    <tr>\n",
       "      <td>...</td>\n",
       "      <td>...</td>\n",
       "      <td>...</td>\n",
       "      <td>...</td>\n",
       "      <td>...</td>\n",
       "    </tr>\n",
       "    <tr>\n",
       "      <td>95</td>\n",
       "      <td>female</td>\n",
       "      <td>37</td>\n",
       "      <td>170</td>\n",
       "      <td>39</td>\n",
       "    </tr>\n",
       "    <tr>\n",
       "      <td>96</td>\n",
       "      <td>female</td>\n",
       "      <td>39</td>\n",
       "      <td>182</td>\n",
       "      <td>84</td>\n",
       "    </tr>\n",
       "    <tr>\n",
       "      <td>97</td>\n",
       "      <td>female</td>\n",
       "      <td>39</td>\n",
       "      <td>167</td>\n",
       "      <td>47</td>\n",
       "    </tr>\n",
       "    <tr>\n",
       "      <td>98</td>\n",
       "      <td>female</td>\n",
       "      <td>31</td>\n",
       "      <td>165</td>\n",
       "      <td>60</td>\n",
       "    </tr>\n",
       "    <tr>\n",
       "      <td>99</td>\n",
       "      <td>female</td>\n",
       "      <td>32</td>\n",
       "      <td>184</td>\n",
       "      <td>53</td>\n",
       "    </tr>\n",
       "  </tbody>\n",
       "</table>\n",
       "<p>100 rows × 4 columns</p>\n",
       "</div>"
      ],
      "text/plain": [
       "    gender  age  height  weight\n",
       "0     male   42     260      77\n",
       "1     male   41     203      72\n",
       "2     male   37     197      60\n",
       "3     male   33     161      76\n",
       "4     male   38     171      61\n",
       "..     ...  ...     ...     ...\n",
       "95  female   37     170      39\n",
       "96  female   39     182      84\n",
       "97  female   39     167      47\n",
       "98  female   31     165      60\n",
       "99  female   32     184      53\n",
       "\n",
       "[100 rows x 4 columns]"
      ]
     },
     "execution_count": 1,
     "metadata": {},
     "output_type": "execute_result"
    }
   ],
   "source": [
    "import numpy as np\n",
    "import pandas as pd\n",
    "import statistics\n",
    "from statistics import mode\n",
    "from collections import Counter\n",
    "\n",
    "data = pd.DataFrame()\n",
    "data['gender'] = ['male'] * 50 + ['female'] * 50\n",
    "data['age'] = np.append(np.random.normal(45,7,50),np.random.normal(40,6,50))\n",
    "data['height'] = np.append(np.random.normal(195,25,50),np.random.normal(166,15,50))\n",
    "data['weight'] = np.append(np.random.normal(69,10,50),np.random.normal(64,15,50))\n",
    "data = data.astype({'age':int})\n",
    "data = data.astype({'height':int})\n",
    "data = data.astype({'weight':int})\n",
    "\n",
    "data"
   ]
  },
  {
   "cell_type": "code",
   "execution_count": 2,
   "metadata": {},
   "outputs": [
    {
     "name": "stdout",
     "output_type": "stream",
     "text": [
      "40.48\n",
      "181.58\n",
      "63.81\n"
     ]
    }
   ],
   "source": [
    "# Merkezi Eğilim\n",
    "# Ortalama\n",
    "print(np.mean(data['age']))\n",
    "print(np.mean(data['height']))\n",
    "print(np.mean(data['weight']))"
   ]
  },
  {
   "cell_type": "code",
   "execution_count": 3,
   "metadata": {},
   "outputs": [
    {
     "name": "stdout",
     "output_type": "stream",
     "text": [
      "40.0\n",
      "176.5\n",
      "64.5\n"
     ]
    }
   ],
   "source": [
    "# Medyan\n",
    "print(np.median(data['age']))\n",
    "print(np.median(data['height']))\n",
    "print(np.median(data['weight']))"
   ]
  },
  {
   "cell_type": "code",
   "execution_count": 4,
   "metadata": {
    "scrolled": false
   },
   "outputs": [
    {
     "name": "stdout",
     "output_type": "stream",
     "text": [
      "39\n",
      "171\n",
      "72\n"
     ]
    }
   ],
   "source": [
    "# Mod\n",
    "# data['age'].mode()\n",
    "# data['weight'].mode()\n",
    "# data['height'].mode()\n",
    "print(statistics.mode(data['age']))\n",
    "print(statistics.mode(data['height']))\n",
    "print(statistics.mode(data['weight']))"
   ]
  },
  {
   "cell_type": "code",
   "execution_count": 5,
   "metadata": {},
   "outputs": [
    {
     "name": "stdout",
     "output_type": "stream",
     "text": [
      "47.80767676767679\n",
      "707.1753535353537\n",
      "196.21606060606052\n"
     ]
    }
   ],
   "source": [
    "# Merkezi Dağılım\n",
    "# Varyans\n",
    "print(data['age'].var())\n",
    "print(data['height'].var())\n",
    "print(data['weight'].var())"
   ]
  },
  {
   "cell_type": "code",
   "execution_count": 6,
   "metadata": {},
   "outputs": [
    {
     "name": "stdout",
     "output_type": "stream",
     "text": [
      "6.914309565508098\n",
      "26.592768820402167\n",
      "14.007714324830461\n"
     ]
    }
   ],
   "source": [
    "# Standart Sapma\n",
    "print(np.std(data['age'],ddof=1))\n",
    "print(np.std(data['height'],ddof=1))\n",
    "print(np.std(data['weight'],ddof=1))"
   ]
  },
  {
   "cell_type": "code",
   "execution_count": 7,
   "metadata": {},
   "outputs": [
    {
     "name": "stdout",
     "output_type": "stream",
     "text": [
      "0.6914309565508099\n",
      "0.5156817702847578\n",
      "0.3742688114822081\n"
     ]
    }
   ],
   "source": [
    "# Standart Hata\n",
    "print(np.std(data['age'],ddof=1) / np.sqrt(len(data['age'])))\n",
    "print(np.sqrt(np.std(data['height'],ddof=1) / len(data['height'])))\n",
    "print(np.sqrt(np.std(data['weight'],ddof=1) / len(data['weight'])))"
   ]
  },
  {
   "cell_type": "code",
   "execution_count": 8,
   "metadata": {},
   "outputs": [
    {
     "name": "stdout",
     "output_type": "stream",
     "text": [
      "Age ortalması: 40.48,\n",
      "Height ortalması: 181.58,\n",
      "Weight ortalması: 63.81,\n",
      "Age medyan: 40.0,\n",
      "Height ortalması: 181.58,\n",
      "Weight medyan: 176.5\n",
      "Age standart sapma: 6.87965115394669,\n",
      "Height ortalması: 181.58,\n",
      "Weight standart sapma: 13.93749977578475\n",
      "Age varyans: 47.32960000000002,\n",
      "Height ortalması: 181.58,\n",
      "Weight varyans: 194.25389999999993\n"
     ]
    }
   ],
   "source": [
    "age = data['age']\n",
    "height = data['height']\n",
    "weight = data['weight']\n",
    "\n",
    "\n",
    "def ortalamaBul(vektor):\n",
    "    veriAdedi = len(vektor)\n",
    "    if veriAdedi <= 1:\n",
    "        return vektor\n",
    "    else:\n",
    "        return sum(vektor) / veriAdedi\n",
    "\n",
    "def medyanBul(vektor):\n",
    "    vektor = sorted(vektor)\n",
    "    veriAdedi = len(vektor)\n",
    "    if veriAdedi % 2 == 1:\n",
    "        return vektor[veriAdedi // 2]\n",
    "    else:\n",
    "        i = veriAdedi // 2\n",
    "        return (vektor[i - 1] + vektor[i]) / 2\n",
    "\n",
    "\n",
    "def standartSapmaBul(vektor):\n",
    "    sd = 0.0 # standart sapma\n",
    "    veriAdedi = len(vektor)\n",
    "    if veriAdedi <= 1:\n",
    "        return 0.0\n",
    "    else:\n",
    "        for _ in vektor:\n",
    "            sd += (float(_) - ortalamaBul(vektor)) ** 2\n",
    "        sd = (sd / float(veriAdedi)) ** 0.5\n",
    "        return sd\n",
    "\n",
    "def varyansBul(vektor):\n",
    "    return standartSapmaBul(vektor) ** 2\n",
    "\n",
    "\n",
    "print(f\"Age ortalması: {ortalamaBul(age)},\\n\"\n",
    "      f\"Height ortalması: {ortalamaBul(height)},\\n\"\n",
    "      f\"Weight ortalması: {ortalamaBul(weight)},\")\n",
    "\n",
    "print(f\"Age medyan: {medyanBul(age)},\\n\"\n",
    "      f\"Height ortalması: {ortalamaBul(height)},\\n\"\n",
    "      f\"Weight medyan: {medyanBul(height)}\")\n",
    "\n",
    "print(f\"Age standart sapma: {standartSapmaBul(age)},\\n\"\n",
    "      f\"Height ortalması: {ortalamaBul(height)},\\n\"\n",
    "      f\"Weight standart sapma: {standartSapmaBul(weight)}\")\n",
    "\n",
    "print(f\"Age varyans: {varyansBul(age)},\\n\"\n",
    "      f\"Height ortalması: {ortalamaBul(height)},\\n\"\n",
    "      f\"Weight varyans: {varyansBul(weight)}\")"
   ]
  }
 ],
 "metadata": {
  "kernelspec": {
   "display_name": "Python 3",
   "language": "python",
   "name": "python3"
  },
  "language_info": {
   "codemirror_mode": {
    "name": "ipython",
    "version": 3
   },
   "file_extension": ".py",
   "mimetype": "text/x-python",
   "name": "python",
   "nbconvert_exporter": "python",
   "pygments_lexer": "ipython3",
   "version": "3.7.4"
  }
 },
 "nbformat": 4,
 "nbformat_minor": 2
}
